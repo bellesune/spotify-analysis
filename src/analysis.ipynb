{
 "cells": [
  {
   "cell_type": "code",
   "execution_count": 89,
   "metadata": {},
   "outputs": [],
   "source": [
    "import numpy as np\n",
    "import pandas as pd\n",
    "\n",
    "top_2017 = pd.read_csv('../datasets/top2017.csv')\n",
    "top_2018 = pd.read_csv('../datasets/top2018.csv')\n",
    "top_2019 = pd.read_csv('../datasets/top2019.csv', encoding='mbcs', index_col=0)\n",
    "top_2010_2019 = pd.read_csv('../datasets/top2010-2019.csv', encoding='mbcs', index_col=0)"
   ]
  },
  {
   "cell_type": "code",
   "execution_count": 149,
   "metadata": {
    "tags": []
   },
   "outputs": [
    {
     "output_type": "stream",
     "name": "stdout",
     "text": "DF\nname\nData Type: Categorical\nThere are 100 unique values: {Body Like A Back Road, Despacito (Featuring Daddy Yankee), Despacito - Remix, …, Dusk Till Dawn - Radio Edit, Now Or Never, Shape of You}\n\nartists\nData Type: Categorical\nThere are 78 unique values: {Ed Sheeran, Halsey, Luis Fonsi, …, Machine Gun Kelly, Sam Hunt, The Chainsmokers}\n\nkey\nData Type: Categorical\nThere are 12 unique values: {1.0, 2.0, 4.0, …, 8.0, 10.0, 11.0}\n\nmode\nData Type: Categorical\nThere are 2 unique values: {0.0, 1.0}\n\ntime_signature\nData Type: Categorical\nThere are 2 unique values: {3.0, 4.0}\n\nDF\nname\nData Type: Categorical\nThere are 100 unique values: {Be Alright, Dusk Till Dawn - Radio Edit, God's Plan, …, No Brainer, SAD!, rockstar (feat. 21 Savage)}\n\nartists\nData Type: Categorical\nThere are 70 unique values: {DJ Khaled, Dean Lewis, Drake, …, Post Malone, XXXTENTACION, ZAYN}\n\nkey\nData Type: Categorical\nThere are 12 unique values: {3.0, 4.0, 5.0, …, 7.0, 8.0, 11.0}\n\nmode\nData Type: Categorical\nThere are 2 unique values: {0.0, 1.0}\n\ntime_signature\nData Type: Categorical\nThere are 3 unique values: {3.0, 4.0, 5.0}\n\n"
    }
   ],
   "source": [
    "for df in [top_2017, top_2018]:\n",
    "    print(\"DF\")\n",
    "    for col in [\"name\", \"artists\", \"key\", \"mode\", \"time_signature\"]:\n",
    "        print(col)\n",
    "        print(\"Data Type: Categorical\")\n",
    "        unique = len(df[col].unique())\n",
    "        s = sorted(df[col].unique())\n",
    "        if unique > 7:\n",
    "            s = sorted(list(df[col].unique()[:3]) + list(df[col].unique()[-3:]))\n",
    "            s.insert(3, \"…\")\n",
    "        \n",
    "        print(f\"There are {unique} unique values: \",end=\"{\")\n",
    "        for val in s:\n",
    "            print(val,end=\"\")\n",
    "            if not val is s[-1]:\n",
    "                print(\", \",end=\"\")\n",
    "        print(\"}\\n\")\n"
   ]
  },
  {
   "cell_type": "code",
   "execution_count": 150,
   "metadata": {
    "tags": []
   },
   "outputs": [
    {
     "output_type": "stream",
     "name": "stdout",
     "text": "DF\ndanceability\nData Type: Quantitative\nFloat: contains [0.258, 0.927] inclusive, there are 3 outliers: {0.358, 0.314, 0.258}\n\nenergy\nData Type: Quantitative\nFloat: contains [0.34600000000000003, 0.932] inclusive, there are 0 outliers\n\nloudness\nData Type: Quantitative\nFloat: contains [-11.462, -2.396] inclusive, there are 3 outliers: {-11.377, -11.462, -10.401}\n\nspeechiness\nData Type: Quantitative\nFloat: contains [0.0232, 0.431] inclusive, there are 11 outliers: {0.431, 0.282, 0.289, 0.425, 0.244, 0.42, 0.365, 0.37, 0.247, 0.253, 0.35100000000000003}\n\nacousticness\nData Type: Quantitative\nFloat: contains [0.000259, 0.695] inclusive, there are 6 outliers: {0.581, 0.695, 0.57, 0.652, 0.535, 0.586}\n\ninstrumentalness\nData Type: Quantitative\nFloat: contains [0.0, 0.21] inclusive, there are 16 outliers: {0.0101, 0.0219, 0.21, 0.085, 9.03e-05, 0.000752, 0.000162, 3.8e-05, 0.004229999999999999, 0.132, 0.00611, 0.00010800000000000001, 4.46e-05, 0.00048600000000000005, 0.00366, 0.00466}\n\nliveness\nData Type: Quantitative\nFloat: contains [0.0424, 0.44] inclusive, there are 8 outliers: {0.325, 0.327, 0.35100000000000003, 0.35100000000000003, 0.44, 0.337, 0.32299999999999995, 0.306}\n\nvalence\nData Type: Quantitative\nFloat: contains [0.0862, 0.966] inclusive, there are 0 outliers\n\ntempo\nData Type: Quantitative\nFloat: contains [75.016, 199.864] inclusive, there is 1 outlier: {199.864}\n\nduration_ms\nData Type: Quantitative\nFloat: contains [165387.0, 343150.0] inclusive, there are 5 outliers: {288600.0, 298941.0, 343150.0, 326933.0, 340707.0}\n\nDF\ndanceability\nData Type: Quantitative\nFloat: contains [0.258, 0.9640000000000001] inclusive, there are 3 outliers: {0.35100000000000003, 0.284, 0.258}\n\nenergy\nData Type: Quantitative\nFloat: contains [0.29600000000000004, 0.909] inclusive, there are 0 outliers\n\nloudness\nData Type: Quantitative\nFloat: contains [-10.109, -2.384] inclusive, there is 1 outlier: {-10.109}\n\nspeechiness\nData Type: Quantitative\nFloat: contains [0.0232, 0.53] inclusive, there are 6 outliers: {0.46299999999999997, 0.321, 0.516, 0.41200000000000003, 0.53, 0.342}\n\nacousticness\nData Type: Quantitative\nFloat: contains [0.00028199999999999997, 0.934] inclusive, there are 10 outliers: {0.58, 0.568, 0.581, 0.883, 0.652, 0.627, 0.934, 0.779, 0.847, 0.6970000000000001}\n\ninstrumentalness\nData Type: Quantitative\nFloat: contains [0.0, 0.134] inclusive, there are 15 outliers: {8.290000000000001e-05, 0.00372, 0.000109, 0.000194, 0.00108, 0.00404, 0.000637, 0.134, 9.44e-05, 0.013000000000000001, 0.000152, 0.000113, 9.329999999999999e-05, 0.000147, 0.00011499999999999999}\n\nliveness\nData Type: Quantitative\nFloat: contains [0.0215, 0.636] inclusive, there are 15 outliers: {0.552, 0.396, 0.37200000000000005, 0.34, 0.294, 0.33399999999999996, 0.451, 0.297, 0.35, 0.418, 0.409, 0.636, 0.35, 0.308, 0.325}\n\nvalence\nData Type: Quantitative\nFloat: contains [0.0796, 0.9309999999999999] inclusive, there are 0 outliers\n\ntempo\nData Type: Quantitative\nFloat: contains [64.934, 198.075] inclusive, there are 0 outliers\n\nduration_ms\nData Type: Quantitative\nFloat: contains [95467.0, 417920.0] inclusive, there are 5 outliers: {417920.0, 119133.0, 121887.0, 312820.0, 95467.0}\n\n"
    }
   ],
   "source": [
    "for df in [top_2017, top_2018]:\n",
    "    print(\"DF\")\n",
    "    for col in df.columns:\n",
    "        if col in [\"id\",\"name\", \"artists\", \"key\", \"mode\", \"time_signature\"]:\n",
    "            continue\n",
    "        print(col)\n",
    "        q3 = df[col].quantile(.75)\n",
    "        q1 = df[col].quantile(.25)\n",
    "        outlier_threshold = 1.5 * (q3 - q1)\n",
    "        outliers = list(df[col][(df[col] < q1 - outlier_threshold) | (df[col] > q3 + outlier_threshold)])\n",
    "        mini = df[col].min()\n",
    "        maxi = df[col].max()\n",
    "        c = len(outliers)\n",
    "        print(\"Data Type: Quantitative\")\n",
    "        print(f\"Float: contains [{mini}, {maxi}] inclusive, there {'is' if c == 1 else 'are'} {c} outlier{'s' if c != 1 else ''}\",end=\"\")\n",
    "        if len(outliers) == 0:\n",
    "            print(\"\\n\")\n",
    "            continue\n",
    "        print(\": {\",end=\"\")\n",
    "        for val in outliers:\n",
    "            print(val,end=\"\")\n",
    "            if not val is outliers[-1]:\n",
    "                print(\", \",end=\"\")\n",
    "        print(\"}\\n\")"
   ]
  }
 ],
 "metadata": {
  "kernelspec": {
   "display_name": "Python 3",
   "language": "python",
   "name": "python3"
  },
  "language_info": {
   "codemirror_mode": {
    "name": "ipython",
    "version": 3
   },
   "file_extension": ".py",
   "mimetype": "text/x-python",
   "name": "python",
   "nbconvert_exporter": "python",
   "pygments_lexer": "ipython3",
   "version": "3.8.3-final"
  }
 },
 "nbformat": 4,
 "nbformat_minor": 4
}